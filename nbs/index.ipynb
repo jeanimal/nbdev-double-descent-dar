{
 "cells": [
  {
   "cell_type": "code",
   "execution_count": null,
   "metadata": {},
   "outputs": [],
   "source": [
    "#| hide\n",
    "from nbdev_double_descent_dar.core import *"
   ]
  },
  {
   "cell_type": "markdown",
   "metadata": {},
   "source": [
    "# nbdev-double-descent-dar\n",
    "\n",
    "> Reproducing double descent with nbdev from a paper by Dar"
   ]
  },
  {
   "cell_type": "markdown",
   "metadata": {},
   "source": [
    "Reproducing the ideas from this wonderful paper:\n",
    "\n",
    "Yehuda Dar, Muthukumar, V., & Baraniuk, R. (2021). A Farewell to the Bias-Variance Tradeoff? An Overview of the Theory of Overparameterized Machine Learning. https://arxiv.org/abs/2109.02355\n",
    "\n",
    "Fully explained in:\n",
    "\n",
    "* Blog post: https://medium.com/@jeanimal/technical-even-linear-regression-can-escape-the-bias-variance-tradeoff-263abe6acb1c\n",
    "* Video: https://youtu.be/bM6WJVyytEg\n",
    "\n",
    "Code:\n",
    "\n",
    "* This reproduction is in python.\n",
    "* A reproduction in R is here: https://github.com/jeanimal/farewell_bias_variance\n"
   ]
  },
  {
   "cell_type": "markdown",
   "metadata": {},
   "source": [
    "## Install"
   ]
  },
  {
   "cell_type": "markdown",
   "metadata": {},
   "source": [
    "```sh\n",
    "pip install nbdev_double_descent_dar\n",
    "```"
   ]
  },
  {
   "cell_type": "markdown",
   "metadata": {},
   "source": [
    "## How to use"
   ]
  },
  {
   "cell_type": "markdown",
   "metadata": {},
   "source": [
    "Fill me in please! Don't forget code examples:"
   ]
  },
  {
   "cell_type": "code",
   "execution_count": null,
   "metadata": {},
   "outputs": [],
   "source": [
    "import pandas as pd"
   ]
  },
  {
   "cell_type": "code",
   "execution_count": null,
   "metadata": {},
   "outputs": [
    {
     "data": {
      "text/plain": [
       "(   a   b   c\n",
       " 0  1   2   3\n",
       " 1  2   3   4\n",
       " 2  3   4   5\n",
       " 3  4   5   6\n",
       " 4  5   6   7\n",
       " 5  6   7   8\n",
       " 6  7   8   9\n",
       " 7  8   9  10\n",
       " 8  9  10  11,\n",
       "    target\n",
       " 0     100\n",
       " 1     101\n",
       " 2     102\n",
       " 3     103\n",
       " 4     104\n",
       " 5     105\n",
       " 6     106\n",
       " 7     107\n",
       " 8     108\n",
       " 9     109)"
      ]
     },
     "execution_count": null,
     "metadata": {},
     "output_type": "execute_result"
    }
   ],
   "source": [
    "X = pd.DataFrame({'a':range(1,10), 'b':range(2,11), 'c':range(3,12)})\n",
    "y = pd.DataFrame({'target':range(100,110)})\n",
    "X, y"
   ]
  },
  {
   "cell_type": "code",
   "execution_count": null,
   "metadata": {},
   "outputs": [],
   "source": [
    "random_state=1\n",
    "num_rows=3\n",
    "num_cols=2\n",
    "\n",
    "X_sub, y_sub = sample_rows_and_cols(X, y, num_rows, num_cols, random_state=random_state, replace=False)"
   ]
  },
  {
   "cell_type": "code",
   "execution_count": null,
   "metadata": {},
   "outputs": [
    {
     "data": {
      "text/plain": [
       "(   a  c\n",
       " 5  6  8\n",
       " 1  2  4\n",
       " 6  7  9,\n",
       "    target\n",
       " 5     105\n",
       " 1     101\n",
       " 6     106)"
      ]
     },
     "execution_count": null,
     "metadata": {},
     "output_type": "execute_result"
    }
   ],
   "source": [
    "X_sub, y_sub"
   ]
  }
 ],
 "metadata": {
  "kernelspec": {
   "display_name": "python3",
   "language": "python",
   "name": "python3"
  }
 },
 "nbformat": 4,
 "nbformat_minor": 4
}
