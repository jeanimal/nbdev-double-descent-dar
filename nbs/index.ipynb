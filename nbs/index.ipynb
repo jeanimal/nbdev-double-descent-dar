{
 "cells": [
  {
   "cell_type": "code",
   "execution_count": null,
   "metadata": {},
   "outputs": [],
   "source": [
    "#| hide\n",
    "from nbdev_double_descent_dar.core import *"
   ]
  },
  {
   "cell_type": "markdown",
   "metadata": {},
   "source": [
    "# nbdev-double-descent-dar\n",
    "\n",
    "> Reproducing double descent with nbdev from a paper by Dar"
   ]
  },
  {
   "cell_type": "markdown",
   "metadata": {},
   "source": [
    "Reproducing the ideas from this wonderful paper:\n",
    "\n",
    "Yehuda Dar, Muthukumar, V., & Baraniuk, R. (2021). A Farewell to the Bias-Variance Tradeoff? An Overview of the Theory of Overparameterized Machine Learning. https://arxiv.org/abs/2109.02355\n",
    "\n",
    "Fully explained in:\n",
    "\n",
    "* Blog post: https://medium.com/@jeanimal/technical-even-linear-regression-can-escape-the-bias-variance-tradeoff-263abe6acb1c\n",
    "* Video: https://youtu.be/bM6WJVyytEg\n",
    "\n",
    "Code:\n",
    "* This reproduction is in python.\n",
    "* A reproduction in R is here: https://github.com/jeanimal/farewell_bias_variance\n"
   ]
  },
  {
   "cell_type": "markdown",
   "metadata": {},
   "source": [
    "## Install"
   ]
  },
  {
   "cell_type": "markdown",
   "metadata": {},
   "source": [
    "```sh\n",
    "pip install nbdev_double_descent_dar\n",
    "```"
   ]
  },
  {
   "cell_type": "markdown",
   "metadata": {},
   "source": [
    "## How to use"
   ]
  },
  {
   "cell_type": "markdown",
   "metadata": {},
   "source": [
    "Fill me in please! Don't forget code examples:"
   ]
  },
  {
   "cell_type": "code",
   "execution_count": null,
   "metadata": {},
   "outputs": [],
   "source": [
    "import numpy as np\n",
    "import pandas as pd"
   ]
  },
  {
   "cell_type": "code",
   "execution_count": null,
   "metadata": {},
   "outputs": [
    {
     "data": {
      "text/plain": [
       "(   a   b   c\n",
       " 0  1   2   3\n",
       " 1  2   3   4\n",
       " 2  3   4   5\n",
       " 3  4   5   6\n",
       " 4  5   6   7\n",
       " 5  6   7   8\n",
       " 6  7   8   9\n",
       " 7  8   9  10\n",
       " 8  9  10  11,\n",
       "    target\n",
       " 0     100\n",
       " 1     101\n",
       " 2     102\n",
       " 3     103\n",
       " 4     104\n",
       " 5     105\n",
       " 6     106\n",
       " 7     107\n",
       " 8     108\n",
       " 9     109)"
      ]
     },
     "execution_count": null,
     "metadata": {},
     "output_type": "execute_result"
    }
   ],
   "source": [
    "X = pd.DataFrame({'a':range(1,10), 'b':range(2,11), 'c':range(3,12)})\n",
    "y = pd.DataFrame({'target':range(100,110)})\n",
    "X, y"
   ]
  },
  {
   "cell_type": "code",
   "execution_count": null,
   "metadata": {},
   "outputs": [
    {
     "ename": "NameError",
     "evalue": "name 'np' is not defined",
     "output_type": "error",
     "traceback": [
      "\u001b[0;31m---------------------------------------------------------------------------\u001b[0m",
      "\u001b[0;31mNameError\u001b[0m                                 Traceback (most recent call last)",
      "Cell \u001b[0;32mIn[12], line 5\u001b[0m\n\u001b[1;32m      2\u001b[0m num_rows\u001b[38;5;241m=\u001b[39m\u001b[38;5;241m3\u001b[39m\n\u001b[1;32m      3\u001b[0m num_cols\u001b[38;5;241m=\u001b[39m\u001b[38;5;241m2\u001b[39m\n\u001b[0;32m----> 5\u001b[0m X_sub, y_sub \u001b[38;5;241m=\u001b[39m \u001b[43msample_rows_and_cols\u001b[49m\u001b[43m(\u001b[49m\u001b[43mX\u001b[49m\u001b[43m,\u001b[49m\u001b[43m \u001b[49m\u001b[43my\u001b[49m\u001b[43m,\u001b[49m\u001b[43m \u001b[49m\u001b[43mnum_rows\u001b[49m\u001b[43m,\u001b[49m\u001b[43m \u001b[49m\u001b[43mnum_cols\u001b[49m\u001b[43m,\u001b[49m\u001b[43m \u001b[49m\u001b[43mrandom_state\u001b[49m\u001b[38;5;241;43m=\u001b[39;49m\u001b[43mrandom_state\u001b[49m\u001b[43m,\u001b[49m\u001b[43m \u001b[49m\u001b[43mreplace\u001b[49m\u001b[38;5;241;43m=\u001b[39;49m\u001b[38;5;28;43;01mFalse\u001b[39;49;00m\u001b[43m)\u001b[49m\n",
      "File \u001b[0;32m~/Code/nbdev-double-descent-dar/nbdev_double_descent_dar/core.py:45\u001b[0m, in \u001b[0;36msample_rows_and_cols\u001b[0;34m(X, y, num_sampled_rows, num_sampled_columns, random_state, replace)\u001b[0m\n\u001b[1;32m     17\u001b[0m \u001b[38;5;250m\u001b[39m\u001b[38;5;124;03m\"\"\"\u001b[39;00m\n\u001b[1;32m     18\u001b[0m \u001b[38;5;124;03mSamples the same num_sampled_rows from X and y and sample num_sampled_columns from X.\u001b[39;00m\n\u001b[1;32m     19\u001b[0m \n\u001b[0;32m   (...)\u001b[0m\n\u001b[1;32m     42\u001b[0m \u001b[38;5;124;03m    Sampled version of the input dataframes where X.shape == (num_sampled_rows, num_sampled_columns) and y.shape == (num_sampled_rows, 1)\u001b[39;00m\n\u001b[1;32m     43\u001b[0m \u001b[38;5;124;03m\"\"\"\u001b[39;00m\n\u001b[1;32m     44\u001b[0m \u001b[38;5;66;03m# TODO: find a version of random choice that does let users control the random_state.\u001b[39;00m\n\u001b[0;32m---> 45\u001b[0m indices \u001b[38;5;241m=\u001b[39m \u001b[43mnp\u001b[49m\u001b[38;5;241m.\u001b[39mrandom\u001b[38;5;241m.\u001b[39mchoice(X\u001b[38;5;241m.\u001b[39mindex, num_sampled_rows, replace\u001b[38;5;241m=\u001b[39mreplace)\n\u001b[1;32m     46\u001b[0m X_subset \u001b[38;5;241m=\u001b[39m X\u001b[38;5;241m.\u001b[39miloc[indices]\n\u001b[1;32m     47\u001b[0m y_subset \u001b[38;5;241m=\u001b[39m y\u001b[38;5;241m.\u001b[39miloc[indices]\n",
      "\u001b[0;31mNameError\u001b[0m: name 'np' is not defined"
     ]
    }
   ],
   "source": [
    "random_state=1\n",
    "num_rows=3\n",
    "num_cols=2\n",
    "\n",
    "X_sub, y_sub = sample_rows_and_cols(X, y, num_rows, num_cols, random_state=random_state, replace=False)"
   ]
  },
  {
   "cell_type": "code",
   "execution_count": null,
   "metadata": {},
   "outputs": [],
   "source": [
    "X_sub, y_sub"
   ]
  }
 ],
 "metadata": {
  "kernelspec": {
   "display_name": "python3",
   "language": "python",
   "name": "python3"
  }
 },
 "nbformat": 4,
 "nbformat_minor": 4
}
