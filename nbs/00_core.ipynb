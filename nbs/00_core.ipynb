{
 "cells": [
  {
   "cell_type": "markdown",
   "metadata": {},
   "source": [
    "# core\n",
    "\n",
    "> Functions to assist in running studies of model training and testing on different sizes and types of data sets."
   ]
  },
  {
   "cell_type": "code",
   "execution_count": null,
   "metadata": {},
   "outputs": [],
   "source": [
    "#| default_exp core"
   ]
  },
  {
   "cell_type": "code",
   "execution_count": null,
   "metadata": {},
   "outputs": [],
   "source": [
    "#| hide\n",
    "from nbdev.showdoc import *\n",
    "from fastcore.test import *"
   ]
  },
  {
   "cell_type": "code",
   "execution_count": null,
   "metadata": {},
   "outputs": [],
   "source": [
    "#| export\n",
    "import numpy as np\n",
    "import pandas as pd"
   ]
  },
  {
   "cell_type": "code",
   "execution_count": null,
   "metadata": {},
   "outputs": [],
   "source": [
    "#| export\n",
    "\n",
    "def sample_rows_and_cols(X: pd.DataFrame, y: pd.DataFrame, num_sampled_rows: int, num_sampled_columns: int, random_state: int, replace: bool) -> tuple[pd.DataFrame, pd.DataFrame]:\n",
    "    \"\"\"\n",
    "    Samples the same num_sampled_rows from X and y and sample num_sampled_columns from X.\n",
    "\n",
    "    Returns a tuple of the sampled X and y with matched rows, so they must have the same number of rows.\n",
    "\n",
    "    Sampling is can be with or without replacement based on the boolean value of replace.\n",
    "    \n",
    "    Parameters\n",
    "    ----------\n",
    "    X\n",
    "        DataFrame to sample. If replace=False, must have shape >= (num_sampled_rows, num_sampled_columns).\n",
    "    y\n",
    "        Single-column dataFrame to sample. If replace=False, must have shape > (num_sampled_rows, 1).\n",
    "    num_sampled_rows\n",
    "        Integer number of rows to sample.\n",
    "    num_sampled_columns\n",
    "        Integer number of columns to sample.\n",
    "    random_state\n",
    "        Integer random state for the random sample, useful for reproducible testing.  Do not set in production.\n",
    "    replace\n",
    "        Whether to sample with replacement\n",
    "        \n",
    "    Returns\n",
    "    -------\n",
    "    X, y\n",
    "        Sampled version of the input dataframes where X.shape == (num_sampled_rows, num_sampled_columns) and y.shape == (num_sampled_rows, 1)\n",
    "    \"\"\"\n",
    "    # TODO: find a version of random choice that does let users control the random_state.\n",
    "    indices = np.random.choice(X.index, num_sampled_rows, replace=replace)\n",
    "    X_subset = X.iloc[indices]\n",
    "    y_subset = y.iloc[indices]\n",
    "    X_subset = X_subset.sample(n=num_sampled_columns, random_state=random_state, replace=replace, axis=1)\n",
    "    return X_subset, y_subset"
   ]
  },
  {
   "cell_type": "code",
   "execution_count": null,
   "metadata": {},
   "outputs": [],
   "source": [
    "# Happy case test.\n",
    "X = pd.DataFrame({'a':range(1,10), 'b':range(2,11), 'c':range(3,12)})\n",
    "y = pd.DataFrame({'target':range(100,110)})\n",
    "random_state=1\n",
    "num_rows=3\n",
    "num_cols=2\n",
    "# precondition: y should have one column\n",
    "test_eq(y.shape[1], 1)\n",
    "X_sub, y_sub = sample_rows_and_cols(X, y, num_rows, num_cols, random_state=random_state, replace=False)\n",
    "test_eq(y_sub.shape, (num_rows, 1))\n",
    "test_eq(X_sub.shape, (num_rows, num_cols))\n",
    "# TODO: Test that the y rows match the x rows"
   ]
  },
  {
   "cell_type": "code",
   "execution_count": null,
   "metadata": {},
   "outputs": [],
   "source": [
    "# Test no data in y.\n",
    "y = pd.DataFrame()\n",
    "test_fail(lambda: \n",
    "          sample_rows_and_cols(X, y, num_rows, num_cols, random_state=random_state, replace=False),\n",
    "          contains=\"out-of-bounds\")"
   ]
  },
  {
   "cell_type": "code",
   "execution_count": null,
   "metadata": {},
   "outputs": [],
   "source": [
    "#| hide\n",
    "import nbdev; nbdev.nbdev_export()"
   ]
  },
  {
   "cell_type": "code",
   "execution_count": null,
   "metadata": {},
   "outputs": [],
   "source": []
  }
 ],
 "metadata": {
  "kernelspec": {
   "display_name": "python3",
   "language": "python",
   "name": "python3"
  }
 },
 "nbformat": 4,
 "nbformat_minor": 4
}
